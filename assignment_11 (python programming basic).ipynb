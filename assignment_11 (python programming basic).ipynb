{
 "metadata": {
  "language_info": {
   "codemirror_mode": {
    "name": "ipython",
    "version": 3
   },
   "file_extension": ".py",
   "mimetype": "text/x-python",
   "name": "python",
   "nbconvert_exporter": "python",
   "pygments_lexer": "ipython3",
   "version": "3.7.4"
  },
  "orig_nbformat": 2,
  "kernelspec": {
   "name": "python374jvsc74a57bd00573fab6c61a770748bfcdda5a22a6f0994280481be73221145b8e05796edb27",
   "display_name": "Python 3.7.4 32-bit"
  }
 },
 "nbformat": 4,
 "nbformat_minor": 2,
 "cells": [
  {
   "source": [
    "Write a Python program to find words which are greater than given length k?"
   ],
   "cell_type": "markdown",
   "metadata": {}
  },
  {
   "cell_type": "code",
   "execution_count": 2,
   "metadata": {},
   "outputs": [
    {
     "output_type": "stream",
     "name": "stdout",
     "text": [
      "['Python', 'favourite', 'language']\n"
     ]
    }
   ],
   "source": [
    "# function find sttring greater than length k\n",
    "def string_k(k, str):\n",
    "     \n",
    "    # create the empty string\n",
    "    string = []\n",
    "     \n",
    "    # split the string where space is comes\n",
    "    text = str.split(\" \")\n",
    "     \n",
    "    # iterate the loop till every substring\n",
    "    for x in text:\n",
    "         \n",
    "        # if length of current sub string\n",
    "        # is greater than k then\n",
    "        if len(x) > k:\n",
    "             \n",
    "            # append this sub string in\n",
    "            # string list\n",
    "            string.append(x)\n",
    "             \n",
    "     # return string list\n",
    "    return string\n",
    " \n",
    " \n",
    "# Driver Program    \n",
    "k = 3\n",
    "str =\"Python is my favourite language\"\n",
    "print(string_k(k, str))"
   ]
  },
  {
   "source": [
    "Write a Python program for removing i-th character from a string?"
   ],
   "cell_type": "markdown",
   "metadata": {}
  },
  {
   "cell_type": "code",
   "execution_count": 5,
   "metadata": {},
   "outputs": [
    {
     "output_type": "stream",
     "name": "stdout",
     "text": [
      "Hrishita Sarkar is my name!\n"
     ]
    }
   ],
   "source": [
    "def remove(string, i): \n",
    "  \n",
    "    # Characters before the i-th indexed\n",
    "    # is stored in a variable a\n",
    "    a = string[ : i] \n",
    "      \n",
    "    # Characters after the nth indexed\n",
    "    # is stored in a variable b\n",
    "    b = string[i + 1: ]\n",
    "      \n",
    "    # Returning string after removing\n",
    "    # nth indexed character.\n",
    "    return a + b\n",
    "      \n",
    "# Driver Code\n",
    "if __name__ == '__main__':\n",
    "      \n",
    "    string = \"Hrish#ita Sarkar is my name!\"\n",
    "      \n",
    "    # Remove nth index element\n",
    "    i = 5\n",
    "    \n",
    "    # Print the new string\n",
    "    print(remove(string, i))"
   ]
  },
  {
   "source": [
    "Write a Python program to split and join a string?"
   ],
   "cell_type": "markdown",
   "metadata": {}
  },
  {
   "cell_type": "code",
   "execution_count": 6,
   "metadata": {},
   "outputs": [
    {
     "output_type": "stream",
     "name": "stdout",
     "text": [
      "['W', 'H', 'O']\nW.H.O\n"
     ]
    }
   ],
   "source": [
    "def split_string(string):\n",
    "  \n",
    "    # Split the string based on space delimiter\n",
    "    list_string = string.split(' ')\n",
    "      \n",
    "    return list_string\n",
    "  \n",
    "def join_string(list_string):\n",
    "  \n",
    "    # Join the string based on '-' delimiter\n",
    "    string = '.'.join(list_string)\n",
    "      \n",
    "    return string\n",
    "  \n",
    "# Driver Function\n",
    "if __name__ == '__main__':\n",
    "    string = 'W H O'\n",
    "      \n",
    "    # Splitting a string\n",
    "    list_string = split_string(string)\n",
    "    print(list_string)\n",
    "  \n",
    "     # Join list of strings into one\n",
    "    new_string = join_string(list_string)\n",
    "    print(new_string)"
   ]
  },
  {
   "source": [
    "Write a Python to check if a given string is binary string or not?"
   ],
   "cell_type": "markdown",
   "metadata": {}
  },
  {
   "cell_type": "code",
   "execution_count": 7,
   "metadata": {},
   "outputs": [
    {
     "output_type": "stream",
     "name": "stdout",
     "text": [
      "Yes\nNo\n"
     ]
    }
   ],
   "source": [
    "def check(string) :\n",
    "  \n",
    "    # set function convert string\n",
    "    # into set of characters .\n",
    "    p = set(string)\n",
    "  \n",
    "    # declare set of '0', '1' .\n",
    "    s = {'0', '1'}\n",
    "  \n",
    "    # check set p is same as set s\n",
    "    # or set p contains only '0'\n",
    "    # or set p contains only '1'\n",
    "    # or not, if any one condition\n",
    "    # is true then string is accepted\n",
    "    # otherwise not .\n",
    "    if s == p or p == {'0'} or p == {'1'}:\n",
    "        print(\"Yes\")\n",
    "    else :\n",
    "        print(\"No\")\n",
    "  \n",
    "  \n",
    "          \n",
    "# driver code\n",
    "if __name__ == \"__main__\" :\n",
    "  \n",
    "    string = \"1010101001\"\n",
    "    string2 = \"Hello World\"\n",
    "  \n",
    "    # function calling\n",
    "    check(string)\n",
    "    check(string2)"
   ]
  },
  {
   "source": [
    "Write a Python program to find uncommon words from two Strings?"
   ],
   "cell_type": "markdown",
   "metadata": {}
  },
  {
   "cell_type": "code",
   "execution_count": 8,
   "metadata": {},
   "outputs": [
    {
     "output_type": "stream",
     "name": "stdout",
     "text": [
      " python R Java C++\n"
     ]
    }
   ],
   "source": [
    "def uncommon(a,b):\n",
    "    list_a = a.split()\n",
    "    list_b = b.split()\n",
    "    uc = ''\n",
    "    for i in list_a:\n",
    "        if i not in list_b:\n",
    "            uc = uc+\" \"+i\n",
    "    for j in list_b:\n",
    "        if j not in list_a:\n",
    "            uc = uc+\" \"+j\n",
    "  \n",
    "    return uc\n",
    "  \n",
    "# Driver code\n",
    "a = \"TypeScript python R JavaScript\"\n",
    "b = \"JavaScript TypeScript Java C++\"\n",
    "print(uncommon(a,b))"
   ]
  },
  {
   "source": [
    "Write a Python to find all duplicate characters in string?"
   ],
   "cell_type": "markdown",
   "metadata": {}
  },
  {
   "cell_type": "code",
   "execution_count": 14,
   "metadata": {},
   "outputs": [
    {
     "output_type": "stream",
     "name": "stdout",
     "text": [
      "Duplicate characters in a given string: \na\nr\nt\ne\nA\nh\n"
     ]
    }
   ],
   "source": [
    "string = \"Harry Potter And The Chamber Of Secrets\";  \n",
    "   \n",
    "print(\"Duplicate characters in a given string: \");  \n",
    "#Counts each character present in the string  \n",
    "for i in range(0, len(string)):  \n",
    "    count = 1;  \n",
    "    for j in range(i+1, len(string)):  \n",
    "        if(string[i] == string[j] and string[i] != ' '):  \n",
    "            count = count + 1;  \n",
    "            #Set string[j] to 0 to avoid printing visited character  \n",
    "            string = string[:j] + '0' + string[j+1:];  \n",
    "   \n",
    "    #A character is considered as duplicate if count is greater than 1  \n",
    "    if(count > 1 and string[i] != '0'):  \n",
    "        print(string[i]);  "
   ]
  },
  {
   "source": [
    "Write a Python Program to check if a string contains any special character?"
   ],
   "cell_type": "markdown",
   "metadata": {}
  },
  {
   "cell_type": "code",
   "execution_count": 16,
   "metadata": {},
   "outputs": [
    {
     "output_type": "stream",
     "name": "stdout",
     "text": [
      "Special Character not spotted.\n"
     ]
    }
   ],
   "source": [
    "import re\n",
    "  \n",
    "# Function checks if the string\n",
    "# contains any special character\n",
    "def run(string):\n",
    "  \n",
    "    # Make own character set and pass \n",
    "    # this as argument in compile method\n",
    "    regex = re.compile('[@_!#$%^&*()<>?/\\|}{~:]')\n",
    "      \n",
    "    # Pass the string in search \n",
    "    # method of regex object.    \n",
    "    if(regex.search(string) == None):\n",
    "        print(\"SPECIAL CHARACTER SPOTTED!!!!\")\n",
    "          \n",
    "    else:\n",
    "        print(\"Special Character not spotted.\")\n",
    "      \n",
    "  \n",
    "# Driver Code\n",
    "if __name__ == '__main__' :\n",
    "      \n",
    "    # Enter the string\n",
    "    string = \"E\\/ery C!0ud h@$ @ s|LvEr |_ I |\\| I |\\| G!!!\"\n",
    "      \n",
    "    # calling run function \n",
    "    run(string)"
   ]
  }
 ]
}