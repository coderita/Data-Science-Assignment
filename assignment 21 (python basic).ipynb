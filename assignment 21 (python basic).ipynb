{
 "metadata": {
  "language_info": {
   "codemirror_mode": {
    "name": "ipython",
    "version": 3
   },
   "file_extension": ".py",
   "mimetype": "text/x-python",
   "name": "python",
   "nbconvert_exporter": "python",
   "pygments_lexer": "ipython3",
   "version": "3.7.4"
  },
  "orig_nbformat": 2,
  "kernelspec": {
   "name": "python374jvsc74a57bd00573fab6c61a770748bfcdda5a22a6f0994280481be73221145b8e05796edb27",
   "display_name": "Python 3.7.4 32-bit"
  }
 },
 "nbformat": 4,
 "nbformat_minor": 2,
 "cells": [
  {
   "source": [
    "1. Add the current date to the text file today.txt as a string.\n"
   ],
   "cell_type": "markdown",
   "metadata": {}
  },
  {
   "cell_type": "code",
   "execution_count": 1,
   "metadata": {},
   "outputs": [],
   "source": [
    "import datetime\n",
    "now = datetime.today()\n",
    "now_str = now.isoformat()\n",
    "with open('today', 'wt') as output:\n",
    "    print(now_str, file=output)"
   ]
  },
  {
   "source": [
    "2. Read the text file today.txt into the string today_string\n"
   ],
   "cell_type": "markdown",
   "metadata": {}
  },
  {
   "cell_type": "code",
   "execution_count": 2,
   "metadata": {},
   "outputs": [
    {
     "output_type": "execute_result",
     "data": {
      "text/plain": [
       "'2021-05-28\\n'"
      ]
     },
     "metadata": {},
     "execution_count": 2
    }
   ],
   "source": [
    "with open('today', 'rt') as input:\n",
    "    today_string = input.read()\n",
    "today_string"
   ]
  },
  {
   "source": [
    "3. Parse the date from today_string.\n"
   ],
   "cell_type": "markdown",
   "metadata": {}
  },
  {
   "cell_type": "code",
   "execution_count": 6,
   "metadata": {},
   "outputs": [
    {
     "output_type": "execute_result",
     "data": {
      "text/plain": [
       "datetime.datetime(2021, 5, 28, 0, 0)"
      ]
     },
     "metadata": {},
     "execution_count": 6
    }
   ],
   "source": [
    "import datetime\n",
    "fmt = '%Y-%m-%d\\n'\n",
    "datetime.datetime.strptime(today_string, fmt)\n"
   ]
  },
  {
   "source": [
    "4. List the files in your current directory\n"
   ],
   "cell_type": "markdown",
   "metadata": {}
  },
  {
   "cell_type": "code",
   "execution_count": 7,
   "metadata": {},
   "outputs": [
    {
     "output_type": "execute_result",
     "data": {
      "text/plain": [
       "['assignment 1 (python basic).docx',\n",
       " 'assignment 10 (python basic).docx',\n",
       " 'assignment 11 (python basic).docx',\n",
       " 'assignment 12 (python basic).docx',\n",
       " 'assignment 13 (python basic).docx',\n",
       " 'assignment 14 (python basic).docx',\n",
       " 'assignment 15 (python basic).ipynb',\n",
       " 'assignment 16 (python basic).ipynb',\n",
       " 'assignment 17 (python basic).ipynb',\n",
       " 'assignment 18 (python basic).ipynb',\n",
       " 'assignment 19 (python basic).ipynb',\n",
       " 'assignment 2 (python basic).docx',\n",
       " 'assignment 20 (python basic).ipynb',\n",
       " 'assignment 21 (python basic).ipynb',\n",
       " 'assignment 3 (python basic).docx',\n",
       " 'assignment 4 (python basic).docx',\n",
       " 'assignment 5 (python basic).docx',\n",
       " 'assignment 6 (python basic).docx',\n",
       " 'assignment 7 (python basic).docx',\n",
       " 'assignment 8 (python basic).docx',\n",
       " 'assignment 9 (python basic).docx',\n",
       " 'books.csv',\n",
       " 'books.db',\n",
       " 'Submission.csv',\n",
       " 'test.txt',\n",
       " 'today',\n",
       " 'zoo.py',\n",
       " '__pycache__']"
      ]
     },
     "metadata": {},
     "execution_count": 7
    }
   ],
   "source": [
    "import os\n",
    "os.listdir('.')"
   ]
  },
  {
   "source": [
    "5. Create a list of all of the files in your parent directory (minimum five files should be available).\n"
   ],
   "cell_type": "markdown",
   "metadata": {}
  },
  {
   "cell_type": "code",
   "execution_count": 10,
   "metadata": {},
   "outputs": [
    {
     "output_type": "execute_result",
     "data": {
      "text/plain": [
       "['extra',\n",
       " 'python advance',\n",
       " 'python basic',\n",
       " 'python programming advance',\n",
       " 'python programming basic']"
      ]
     },
     "metadata": {},
     "execution_count": 10
    }
   ],
   "source": [
    "os.listdir('..')"
   ]
  },
  {
   "source": [
    "6. Use multiprocessing to create three separate processes. Make each one wait a random number of seconds between one and five, print the current time, and then exit.\n"
   ],
   "cell_type": "markdown",
   "metadata": {}
  },
  {
   "source": [
    "7. Create a date object of your day of birth.\n"
   ],
   "cell_type": "markdown",
   "metadata": {}
  },
  {
   "cell_type": "code",
   "execution_count": 11,
   "metadata": {},
   "outputs": [
    {
     "output_type": "execute_result",
     "data": {
      "text/plain": [
       "datetime.date(2000, 10, 14)"
      ]
     },
     "metadata": {},
     "execution_count": 11
    }
   ],
   "source": [
    "my_day = date(2000, 10, 14)\n",
    "my_day"
   ]
  },
  {
   "source": [
    "8. What day of the week was your day of birth?\n"
   ],
   "cell_type": "markdown",
   "metadata": {}
  },
  {
   "cell_type": "code",
   "execution_count": 12,
   "metadata": {},
   "outputs": [
    {
     "output_type": "execute_result",
     "data": {
      "text/plain": [
       "5"
      ]
     },
     "metadata": {},
     "execution_count": 12
    }
   ],
   "source": [
    "my_day.weekday()"
   ]
  },
  {
   "source": [
    "9. When will you be (or when were you) 10,000 days old?\n"
   ],
   "cell_type": "markdown",
   "metadata": {}
  },
  {
   "cell_type": "code",
   "execution_count": 14,
   "metadata": {},
   "outputs": [
    {
     "output_type": "execute_result",
     "data": {
      "text/plain": [
       "datetime.date(2028, 3, 1)"
      ]
     },
     "metadata": {},
     "execution_count": 14
    }
   ],
   "source": [
    "import datetime\n",
    "party_day = my_day + datetime.timedelta(days=10000)\n",
    "party_day"
   ]
  }
 ]
}