{
 "metadata": {
  "language_info": {
   "codemirror_mode": {
    "name": "ipython",
    "version": 3
   },
   "file_extension": ".py",
   "mimetype": "text/x-python",
   "name": "python",
   "nbconvert_exporter": "python",
   "pygments_lexer": "ipython3",
   "version": "3.7.4"
  },
  "orig_nbformat": 2,
  "kernelspec": {
   "name": "python374jvsc74a57bd00573fab6c61a770748bfcdda5a22a6f0994280481be73221145b8e05796edb27",
   "display_name": "Python 3.7.4 32-bit"
  }
 },
 "nbformat": 4,
 "nbformat_minor": 2,
 "cells": [
  {
   "source": [
    "Write a Python Program to find sum of array?\n",
    "\n"
   ],
   "cell_type": "markdown",
   "metadata": {}
  },
  {
   "cell_type": "code",
   "execution_count": 1,
   "metadata": {},
   "outputs": [
    {
     "output_type": "stream",
     "name": "stdout",
     "text": [
      "Original array is: \n[12, 3, 4, 15]\nSum of the array is  34\n"
     ]
    }
   ],
   "source": [
    "\n",
    "# Python code to find sum \n",
    "# of elements in given array\n",
    "# driver function\n",
    "arr = []\n",
    "  \n",
    "# input values to list\n",
    "arr = [12, 3, 4, 15]\n",
    "print(\"Original array is: \")\n",
    "print(arr)\n",
    "  \n",
    "# sum() is an inbuilt function in python that adds \n",
    "# all the elements in list,set and tuples and returns\n",
    "# the value \n",
    "ans = sum(arr)\n",
    "  \n",
    "# display sum\n",
    "print ('Sum of the array is ',ans)\n",
    "  \n"
   ]
  },
  {
   "source": [
    "Write a Python Program to find largest element in an array?"
   ],
   "cell_type": "markdown",
   "metadata": {}
  },
  {
   "cell_type": "code",
   "execution_count": 2,
   "metadata": {},
   "outputs": [
    {
     "output_type": "stream",
     "name": "stdout",
     "text": [
      "Original array is: \n[10, 324, 45, 90, 9808]\nLargest in given array is 9808\n"
     ]
    }
   ],
   "source": [
    "# Python program to find maximum\n",
    "# in arr[] of size n \n",
    "  \n",
    "# python function to find maximum\n",
    "# in arr[] of size n\n",
    "def largest(arr,n):\n",
    "  \n",
    "    # Initialize maximum element\n",
    "    max = arr[0]\n",
    "  \n",
    "    # Traverse array elements from second\n",
    "    # and compare every element with \n",
    "    # current max\n",
    "    for i in range(1, n):\n",
    "        if arr[i] > max:\n",
    "            max = arr[i]\n",
    "    return max\n",
    "  \n",
    "# Driver Code\n",
    "arr = [10, 324, 45, 90, 9808]\n",
    "print(\"Original array is: \")\n",
    "print(arr)\n",
    "n = len(arr)\n",
    "Ans = largest(arr,n)\n",
    "print (\"Largest in given array is\",Ans)"
   ]
  },
  {
   "source": [
    "Write a Python Program for array rotation?"
   ],
   "cell_type": "markdown",
   "metadata": {}
  },
  {
   "cell_type": "code",
   "execution_count": 4,
   "metadata": {},
   "outputs": [
    {
     "output_type": "stream",
     "name": "stdout",
     "text": [
      "Original array is: \n[1, 2, 3, 4, 5, 6]\nRotated array (by 2) is: \n[3, 4, 5, 6, 1, 2]\n"
     ]
    }
   ],
   "source": [
    "\n",
    "# Python program using the List\n",
    "# slicing approch to rotate the array\n",
    "def rotateList(arr,d,n):\n",
    "  arr[:]=arr[d:n]+arr[0:d]\n",
    "  return arr\n",
    "# Driver function to test above function\n",
    "arr = [1, 2, 3, 4, 5, 6]\n",
    "print(\"Original array is: \")\n",
    "print(arr)\n",
    "print(\"Rotated array (by 2) is: \")\n",
    "print(rotateList(arr,2,len(arr)))"
   ]
  },
  {
   "source": [
    "Write a Python Program to Split the array and add the first part to the end?"
   ],
   "cell_type": "markdown",
   "metadata": {}
  },
  {
   "cell_type": "code",
   "execution_count": 6,
   "metadata": {},
   "outputs": [
    {
     "output_type": "stream",
     "name": "stdout",
     "text": [
      "Before splitting:\n12 10 5 6 52 36 \nAfter splitting:\n5 6 52 36 12 10 "
     ]
    }
   ],
   "source": [
    "# Python program to split array and move first\n",
    "# part to end.\n",
    "  \n",
    "def splitArr(arr, n, k): \n",
    "    for i in range(0, k): \n",
    "        x = arr[0]\n",
    "        for j in range(0, n-1):\n",
    "            arr[j] = arr[j + 1]\n",
    "          \n",
    "        arr[n-1] = x\n",
    "          \n",
    "  \n",
    "# main\n",
    "arr = [12, 10, 5, 6, 52, 36]\n",
    "print(\"Before splitting:\")\n",
    "for i in range(0, n): \n",
    "    print(arr[i], end = ' ')\n",
    "\n",
    "n = len(arr)\n",
    "position = 2\n",
    "  \n",
    "splitArr(arr, n, position)\n",
    "print(\"\\nAfter splitting:\")\n",
    "for i in range(0, n): \n",
    "    print(arr[i], end = ' ')\n",
    "  "
   ]
  },
  {
   "source": [
    "Write a Python Program to check if given array is Monotonic?"
   ],
   "cell_type": "markdown",
   "metadata": {}
  },
  {
   "cell_type": "code",
   "execution_count": 7,
   "metadata": {},
   "outputs": [
    {
     "output_type": "stream",
     "name": "stdout",
     "text": [
      "Original array is: \n[6, 5, 4, 4]\nTrue\n"
     ]
    }
   ],
   "source": [
    "# Check if given array is Monotonic\n",
    "def isMonotonic(A):\n",
    "  \n",
    "    return (all(A[i] <= A[i + 1] for i in range(len(A) - 1)) or\n",
    "            all(A[i] >= A[i + 1] for i in range(len(A) - 1)))\n",
    "  \n",
    "# Driver program\n",
    "A = [6, 5, 4, 4]\n",
    "print(\"Original array is: \")\n",
    "print(A)\n",
    "  \n",
    "# Print required result\n",
    "print(isMonotonic(A))\n",
    "  "
   ]
  }
 ]
}