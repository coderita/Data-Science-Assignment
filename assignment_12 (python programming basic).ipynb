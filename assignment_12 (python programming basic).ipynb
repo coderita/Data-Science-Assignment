{
 "metadata": {
  "language_info": {
   "codemirror_mode": {
    "name": "ipython",
    "version": 3
   },
   "file_extension": ".py",
   "mimetype": "text/x-python",
   "name": "python",
   "nbconvert_exporter": "python",
   "pygments_lexer": "ipython3",
   "version": "3.7.4"
  },
  "orig_nbformat": 2,
  "kernelspec": {
   "name": "python374jvsc74a57bd00573fab6c61a770748bfcdda5a22a6f0994280481be73221145b8e05796edb27",
   "display_name": "Python 3.7.4 32-bit"
  }
 },
 "nbformat": 4,
 "nbformat_minor": 2,
 "cells": [
  {
   "source": [
    "Write a Python program to Extract Unique values dictionary values?\n"
   ],
   "cell_type": "markdown",
   "metadata": {}
  },
  {
   "cell_type": "code",
   "execution_count": 1,
   "metadata": {},
   "outputs": [
    {
     "output_type": "stream",
     "name": "stdout",
     "text": [
      "The original list : [{'When Nothing': 1, 'is going': 2}, {'Right,': 1, 'go': 3}, {'Left': 2}]\nThe unique values in list are : [1, 2, 3]\n"
     ]
    }
   ],
   "source": [
    "test_list = [{'When Nothing' : 1, 'is going' : 2}, {'Right,' : 1, 'go' : 3}, {'Left' : 2}]\n",
    "  \n",
    "# printing original list\n",
    "print(\"The original list : \" +  str(test_list))\n",
    "  \n",
    "# Using set() + values() + dictionary comprehension\n",
    "# Get Unique values from list of dictionary\n",
    "res = list(set(val for dic in test_list for val in dic.values()))\n",
    "      \n",
    "# printing result \n",
    "print(\"The unique values in list are : \" + str(res))"
   ]
  },
  {
   "source": [
    "Write a Python program to find the sum of all items in a dictionary?\n"
   ],
   "cell_type": "markdown",
   "metadata": {}
  },
  {
   "cell_type": "code",
   "execution_count": 2,
   "metadata": {},
   "outputs": [
    {
     "output_type": "stream",
     "name": "stdout",
     "text": [
      "Sum : 600\n"
     ]
    }
   ],
   "source": [
    "def returnSum(myDict):\n",
    "      \n",
    "    sum = 0\n",
    "    for i in myDict:\n",
    "        sum = sum + myDict[i]\n",
    "      \n",
    "    return sum\n",
    "  \n",
    "# Driver Function\n",
    "dict = {'a': 100, 'b':200, 'c':300}\n",
    "print(\"Sum :\", returnSum(dict))"
   ]
  },
  {
   "source": [
    "Write a Python program to Merging two Dictionaries?\n"
   ],
   "cell_type": "markdown",
   "metadata": {}
  },
  {
   "cell_type": "code",
   "execution_count": 3,
   "metadata": {},
   "outputs": [
    {
     "output_type": "stream",
     "name": "stdout",
     "text": [
      "None\n{'d': 6, 'c': 4, 'a': 10, 'b': 8}\n"
     ]
    }
   ],
   "source": [
    "def Merge(dict1, dict2):\n",
    "    return(dict2.update(dict1))\n",
    "     \n",
    "# Driver code\n",
    "dict1 = {'a': 10, 'b': 8}\n",
    "dict2 = {'d': 6, 'c': 4}\n",
    " \n",
    "# This return None\n",
    "print(Merge(dict1, dict2))\n",
    " \n",
    "# changes made in dict2\n",
    "print(dict2)"
   ]
  },
  {
   "source": [
    "Write a Python program to convert key-values list to flat dictionary?\n"
   ],
   "cell_type": "markdown",
   "metadata": {}
  },
  {
   "cell_type": "code",
   "execution_count": 8,
   "metadata": {},
   "outputs": [
    {
     "output_type": "stream",
     "name": "stdout",
     "text": [
      "{'a': 1, 'd': [1, 2, 3], 'c->a': 2, 'c->b->x': 5, 'c->b->y': 10}\n"
     ]
    }
   ],
   "source": [
    "import pandas as pd\n",
    "\n",
    "d = {'a': 1,\n",
    "     'c': {'a': 2, 'b': {'x': 5, 'y' : 10}},\n",
    "     'd': [1, 2, 3]}\n",
    "\n",
    "df = pd.json_normalize(d, sep='->')\n",
    "\n",
    "print(df.to_dict(orient='records')[0])"
   ]
  },
  {
   "source": [
    "Write a Python program to insertion at the beginning in OrderedDict?\n"
   ],
   "cell_type": "markdown",
   "metadata": {}
  },
  {
   "cell_type": "code",
   "execution_count": 9,
   "metadata": {},
   "outputs": [
    {
     "output_type": "stream",
     "name": "stdout",
     "text": [
      "Resultant Dictionary : OrderedDict([('AA', '0'), ('A', '1'), ('B', '2')])\n"
     ]
    }
   ],
   "source": [
    "from collections import OrderedDict\n",
    "  \n",
    "# initialising ordered_dict\n",
    "iniordered_dict = OrderedDict([('A', '1'), ('B', '2')])\n",
    "  \n",
    "# inserting items in starting of dict \n",
    "iniordered_dict.update({'AA':'0'})\n",
    "iniordered_dict.move_to_end('AA', last = False)\n",
    "  \n",
    "# print result\n",
    "print (\"Resultant Dictionary : \"+str(iniordered_dict))"
   ]
  },
  {
   "source": [
    "Write a Python program to check order of character in string using OrderedDict()?\n"
   ],
   "cell_type": "markdown",
   "metadata": {}
  },
  {
   "cell_type": "code",
   "execution_count": 12,
   "metadata": {},
   "outputs": [
    {
     "output_type": "stream",
     "name": "stdout",
     "text": [
      "true\n"
     ]
    }
   ],
   "source": [
    "# characters defined by a pattern \n",
    "from collections import OrderedDict \n",
    "  \n",
    "def checkOrder(input, pattern): \n",
    "      \n",
    "    # create empty OrderedDict \n",
    "    # output will be like {'a': None,'b': None, 'c': None} \n",
    "    dict = OrderedDict.fromkeys(input) \n",
    "  \n",
    "    # traverse generated OrderedDict parallel with \n",
    "    # pattern string to check if order of characters \n",
    "    # are same or not \n",
    "    ptrlen = 0\n",
    "    for key,value in dict.items(): \n",
    "        if (key == pattern[ptrlen]): \n",
    "            ptrlen = ptrlen + 1\n",
    "          \n",
    "        # check if we have traverse complete \n",
    "        # pattern string \n",
    "        if (ptrlen == (len(pattern))): \n",
    "            return 'true'\n",
    "  \n",
    "    # if we come out from for loop that means \n",
    "    # order was mismatched \n",
    "    return 'false'\n",
    "  \n",
    "# Driver program \n",
    "if __name__ == \"__main__\": \n",
    "    input = 'Lazy people fact #8293567623518676! You are too lazy to read that number!'\n",
    "    pattern = 'azy'\n",
    "    print (checkOrder(input,pattern)) "
   ]
  },
  {
   "source": [
    "Write a Python program to sort Python Dictionaries by Key or Value?\n"
   ],
   "cell_type": "markdown",
   "metadata": {}
  },
  {
   "cell_type": "code",
   "execution_count": 36,
   "metadata": {},
   "outputs": [
    {
     "output_type": "stream",
     "name": "stdout",
     "text": [
      "Original Dictionary:  {1: 2, 3: 4, 4: 3, 2: 1, 0: 0}\nDictionary sorted by value: [(0, 0), (2, 1), (1, 2), (4, 3), (3, 4)]\nDictionary sorted by key: OrderedDict([(0, 0), (1, 2), (2, 1), (3, 4), (4, 3)])\n"
     ]
    }
   ],
   "source": [
    "from collections import OrderedDict\n",
    "# Function calling\n",
    "def dictionairy(): \n",
    "  \n",
    "   x = {1: 2, 3: 4, 4: 3, 2: 1, 0: 0}\n",
    "   print(\"Original Dictionary: \",x)\n",
    "   \n",
    "   sorted_x = sorted(x.items(), key=lambda kv: kv[1])\n",
    "   print(\"Dictionary sorted by value:\",sorted_x)\n",
    "   \n",
    "   sorted_y=OrderedDict(sorted(x.items(), key=lambda t: t[0]))\n",
    "   print(\"Dictionary sorted by key:\",sorted_y)\n",
    "   \n",
    "def main():\n",
    "    # function calling\n",
    "    dictionairy()            \n",
    "      \n",
    "# main function calling\n",
    "if __name__==\"__main__\":      \n",
    "    main()"
   ]
  }
 ]
}