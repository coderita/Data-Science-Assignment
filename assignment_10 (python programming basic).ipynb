{
 "metadata": {
  "language_info": {
   "codemirror_mode": {
    "name": "ipython",
    "version": 3
   },
   "file_extension": ".py",
   "mimetype": "text/x-python",
   "name": "python",
   "nbconvert_exporter": "python",
   "pygments_lexer": "ipython3",
   "version": "3.7.4"
  },
  "orig_nbformat": 2,
  "kernelspec": {
   "name": "python374jvsc74a57bd00573fab6c61a770748bfcdda5a22a6f0994280481be73221145b8e05796edb27",
   "display_name": "Python 3.7.4 32-bit"
  }
 },
 "nbformat": 4,
 "nbformat_minor": 2,
 "cells": [
  {
   "source": [
    "Write a Python program to find sum of elements in list?"
   ],
   "cell_type": "markdown",
   "metadata": {}
  },
  {
   "cell_type": "code",
   "execution_count": 2,
   "metadata": {},
   "outputs": [
    {
     "output_type": "stream",
     "name": "stdout",
     "text": [
      "Sum of the List is  15\n"
     ]
    }
   ],
   "source": [
    "List = [1,2,3,4,5]\n",
    "ans = sum(List)\n",
    "print ('Sum of the List is ',ans)"
   ]
  },
  {
   "source": [
    "Write a Python program to  Multiply all numbers in the list?"
   ],
   "cell_type": "markdown",
   "metadata": {}
  },
  {
   "cell_type": "code",
   "execution_count": 4,
   "metadata": {},
   "outputs": [
    {
     "output_type": "stream",
     "name": "stdout",
     "text": [
      "6\n24\n"
     ]
    }
   ],
   "source": [
    "from functools import reduce\n",
    "list1 = [1, 2, 3] \n",
    "list2 = [3, 2, 4]\n",
    " \n",
    " \n",
    "result1 = reduce((lambda x, y: x * y), list1)\n",
    "result2 = reduce((lambda x, y: x * y), list2)\n",
    "print(result1)\n",
    "print(result2)"
   ]
  },
  {
   "source": [
    "Write a Python program to find smallest number in a list?"
   ],
   "cell_type": "markdown",
   "metadata": {}
  },
  {
   "cell_type": "code",
   "execution_count": 5,
   "metadata": {},
   "outputs": [
    {
     "output_type": "stream",
     "name": "stdout",
     "text": [
      "Smallest number in the list is : 18.\n"
     ]
    }
   ],
   "source": [
    "a = [18, 52, 23, 41, 32]\n",
    "\n",
    "# find smallest number using min() function\n",
    "smallest = min(a)\n",
    "\n",
    "# print the smallest number\n",
    "print(f'Smallest number in the list is : {smallest}.')"
   ]
  },
  {
   "source": [
    "Write a Python program to find largest number in a list?\n"
   ],
   "cell_type": "markdown",
   "metadata": {}
  },
  {
   "cell_type": "code",
   "execution_count": 6,
   "metadata": {},
   "outputs": [
    {
     "output_type": "stream",
     "name": "stdout",
     "text": [
      "Largest number in the list is : 52.\n"
     ]
    }
   ],
   "source": [
    "a = [18, 52, 23, 41, 32]\n",
    "\n",
    "# find smallest number using min() function\n",
    "largest = max(a)\n",
    "\n",
    "# print the smallest number\n",
    "print(f'Largest number in the list is : {largest}.')"
   ]
  },
  {
   "source": [
    "Write a Python program to find second largest number in a list?\n"
   ],
   "cell_type": "markdown",
   "metadata": {}
  },
  {
   "cell_type": "code",
   "execution_count": 7,
   "metadata": {},
   "outputs": [
    {
     "output_type": "stream",
     "name": "stdout",
     "text": [
      "Second largest element is: 45\n"
     ]
    }
   ],
   "source": [
    "list1 = [10, 20, 4, 45, 99]\n",
    " \n",
    "# sorting the list\n",
    "list1.sort()\n",
    " \n",
    "# printing the second last element\n",
    "print(\"Second largest element is:\", list1[-2])"
   ]
  },
  {
   "source": [
    "Write a Python program to find N largest elements from a list?\n"
   ],
   "cell_type": "markdown",
   "metadata": {}
  },
  {
   "cell_type": "code",
   "execution_count": 11,
   "metadata": {},
   "outputs": [
    {
     "output_type": "stream",
     "name": "stdout",
     "text": [
      "Nth largest element is: 20\n"
     ]
    }
   ],
   "source": [
    "list1 = [10, 20, 4, 45, 99]\n",
    " \n",
    "# sorting the list\n",
    "list1.sort()\n",
    "n=3\n",
    "# printing the second last element\n",
    "print(\"Nth largest element is:\", list1[-n])"
   ]
  },
  {
   "source": [
    "Write a Python program to print even numbers in a list?\n"
   ],
   "cell_type": "markdown",
   "metadata": {}
  },
  {
   "cell_type": "code",
   "execution_count": 12,
   "metadata": {},
   "outputs": [
    {
     "output_type": "stream",
     "name": "stdout",
     "text": [
      "64 22 24 "
     ]
    }
   ],
   "source": [
    "list1 = [11,23,45,23,64,22,11,24]\n",
    "# iteration\n",
    "for num in list1:\n",
    "   # check\n",
    "   if num % 2 == 0:\n",
    "      print(num, end = \" \")"
   ]
  },
  {
   "source": [
    "Write a Python program to print odd numbers in a List?\n"
   ],
   "cell_type": "markdown",
   "metadata": {}
  },
  {
   "cell_type": "code",
   "execution_count": 13,
   "metadata": {},
   "outputs": [
    {
     "output_type": "stream",
     "name": "stdout",
     "text": [
      "11 23 45 23 11 "
     ]
    }
   ],
   "source": [
    "list1 = [11,23,45,23,64,22,11,24]\n",
    "# iteration\n",
    "for num in list1:\n",
    "   # check\n",
    "   if num % 2 != 0:\n",
    "      print(num, end = \" \")"
   ]
  },
  {
   "source": [
    "Write a Python program to Remove empty List from List?\n"
   ],
   "cell_type": "markdown",
   "metadata": {}
  },
  {
   "cell_type": "code",
   "execution_count": 14,
   "metadata": {},
   "outputs": [
    {
     "output_type": "stream",
     "name": "stdout",
     "text": [
      "The original list is : [5, 6, [], 3, [], [], 9]\nList after empty list removal : [5, 6, 3, 9]\n"
     ]
    }
   ],
   "source": [
    "\n",
    "# Python3 code to demonstrate \n",
    "# Remove empty List from List\n",
    "# using list comprehension\n",
    "  \n",
    "# Initializing list \n",
    "test_list = [5, 6, [], 3, [], [], 9]\n",
    "  \n",
    "# printing original list \n",
    "print(\"The original list is : \" + str(test_list))\n",
    "  \n",
    "# Remove empty List from List\n",
    "# using list comprehension\n",
    "res = [ele for ele in test_list if ele != []]\n",
    "  \n",
    "# printing result \n",
    "print (\"List after empty list removal : \" + str(res))"
   ]
  },
  {
   "source": [
    "Write a Python program to Cloning or Copying a list?\n"
   ],
   "cell_type": "markdown",
   "metadata": {}
  },
  {
   "cell_type": "code",
   "execution_count": 15,
   "metadata": {},
   "outputs": [
    {
     "output_type": "stream",
     "name": "stdout",
     "text": [
      "Original List: [4, 8, 2, 10, 15, 18]\nAfter Cloning: [4, 8, 2, 10, 15, 18]\n"
     ]
    }
   ],
   "source": [
    "def Cloning(li1):\n",
    "    li_copy = list(li1)\n",
    "    return li_copy\n",
    "  \n",
    "# Driver Code\n",
    "li1 = [4, 8, 2, 10, 15, 18]\n",
    "li2 = Cloning(li1)\n",
    "print(\"Original List:\", li1)\n",
    "print(\"After Cloning:\", li2)"
   ]
  },
  {
   "source": [
    "Write a Python program to Count occurrences of an element in a list?\n"
   ],
   "cell_type": "markdown",
   "metadata": {}
  },
  {
   "cell_type": "code",
   "execution_count": 17,
   "metadata": {},
   "outputs": [
    {
     "output_type": "stream",
     "name": "stdout",
     "text": [
      "2 has occurred 8 times\n"
     ]
    }
   ],
   "source": [
    "def countX(lst, x):\n",
    "    return lst.count(x)\n",
    " \n",
    "# Driver Code\n",
    "lst = [8, 2, 2, 6, 8, 2, 10, 8, 2, 20, 2, 10, 2, 2, 8, 2, 8]\n",
    "x = 2\n",
    "print('{} has occurred {} times'.format(x, countX(lst, x)))"
   ]
  }
 ]
}